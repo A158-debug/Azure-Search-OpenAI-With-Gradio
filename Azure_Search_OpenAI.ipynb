{
  "nbformat": 4,
  "nbformat_minor": 0,
  "metadata": {
    "colab": {
      "provenance": []
    },
    "kernelspec": {
      "name": "python3",
      "display_name": "Python 3"
    },
    "language_info": {
      "name": "python"
    }
  },
  "cells": [
    {
      "cell_type": "code",
      "execution_count": 62,
      "metadata": {
        "id": "YoFgN5gQm8lL",
        "outputId": "5684dbf4-580b-4b5e-c70c-84a7d8e09ee5",
        "colab": {
          "base_uri": "https://localhost:8080/"
        }
      },
      "outputs": [
        {
          "output_type": "stream",
          "name": "stdout",
          "text": [
            "Requirement already satisfied: azure-identity in /usr/local/lib/python3.10/dist-packages (1.13.0)\n",
            "Requirement already satisfied: azure-core<2.0.0,>=1.11.0 in /usr/local/lib/python3.10/dist-packages (from azure-identity) (1.28.0)\n",
            "Requirement already satisfied: cryptography>=2.5 in /usr/lib/python3/dist-packages (from azure-identity) (3.4.8)\n",
            "Requirement already satisfied: msal<2.0.0,>=1.20.0 in /usr/local/lib/python3.10/dist-packages (from azure-identity) (1.23.0)\n",
            "Requirement already satisfied: msal-extensions<2.0.0,>=0.3.0 in /usr/local/lib/python3.10/dist-packages (from azure-identity) (1.0.0)\n",
            "Requirement already satisfied: six>=1.12.0 in /usr/local/lib/python3.10/dist-packages (from azure-identity) (1.16.0)\n",
            "Requirement already satisfied: requests>=2.18.4 in /usr/local/lib/python3.10/dist-packages (from azure-core<2.0.0,>=1.11.0->azure-identity) (2.27.1)\n",
            "Requirement already satisfied: typing-extensions>=4.3.0 in /usr/local/lib/python3.10/dist-packages (from azure-core<2.0.0,>=1.11.0->azure-identity) (4.7.1)\n",
            "Requirement already satisfied: PyJWT[crypto]<3,>=1.0.0 in /usr/lib/python3/dist-packages (from msal<2.0.0,>=1.20.0->azure-identity) (2.3.0)\n",
            "Requirement already satisfied: portalocker<3,>=1.0 in /usr/local/lib/python3.10/dist-packages (from msal-extensions<2.0.0,>=0.3.0->azure-identity) (2.7.0)\n",
            "Requirement already satisfied: urllib3<1.27,>=1.21.1 in /usr/local/lib/python3.10/dist-packages (from requests>=2.18.4->azure-core<2.0.0,>=1.11.0->azure-identity) (1.26.16)\n",
            "Requirement already satisfied: certifi>=2017.4.17 in /usr/local/lib/python3.10/dist-packages (from requests>=2.18.4->azure-core<2.0.0,>=1.11.0->azure-identity) (2023.7.22)\n",
            "Requirement already satisfied: charset-normalizer~=2.0.0 in /usr/local/lib/python3.10/dist-packages (from requests>=2.18.4->azure-core<2.0.0,>=1.11.0->azure-identity) (2.0.12)\n",
            "Requirement already satisfied: idna<4,>=2.5 in /usr/local/lib/python3.10/dist-packages (from requests>=2.18.4->azure-core<2.0.0,>=1.11.0->azure-identity) (3.4)\n",
            "Requirement already satisfied: langchain in /usr/local/lib/python3.10/dist-packages (0.0.257)\n",
            "Requirement already satisfied: PyYAML>=5.3 in /usr/local/lib/python3.10/dist-packages (from langchain) (6.0.1)\n",
            "Requirement already satisfied: SQLAlchemy<3,>=1.4 in /usr/local/lib/python3.10/dist-packages (from langchain) (2.0.19)\n",
            "Requirement already satisfied: aiohttp<4.0.0,>=3.8.3 in /usr/local/lib/python3.10/dist-packages (from langchain) (3.8.5)\n",
            "Requirement already satisfied: async-timeout<5.0.0,>=4.0.0 in /usr/local/lib/python3.10/dist-packages (from langchain) (4.0.2)\n",
            "Requirement already satisfied: dataclasses-json<0.6.0,>=0.5.7 in /usr/local/lib/python3.10/dist-packages (from langchain) (0.5.14)\n",
            "Requirement already satisfied: langsmith<0.1.0,>=0.0.11 in /usr/local/lib/python3.10/dist-packages (from langchain) (0.0.19)\n",
            "Requirement already satisfied: numexpr<3.0.0,>=2.8.4 in /usr/local/lib/python3.10/dist-packages (from langchain) (2.8.4)\n",
            "Requirement already satisfied: numpy<2,>=1 in /usr/local/lib/python3.10/dist-packages (from langchain) (1.22.4)\n",
            "Requirement already satisfied: openapi-schema-pydantic<2.0,>=1.2 in /usr/local/lib/python3.10/dist-packages (from langchain) (1.2.4)\n",
            "Requirement already satisfied: pydantic<2,>=1 in /usr/local/lib/python3.10/dist-packages (from langchain) (1.10.12)\n",
            "Requirement already satisfied: requests<3,>=2 in /usr/local/lib/python3.10/dist-packages (from langchain) (2.27.1)\n",
            "Requirement already satisfied: tenacity<9.0.0,>=8.1.0 in /usr/local/lib/python3.10/dist-packages (from langchain) (8.2.2)\n",
            "Requirement already satisfied: attrs>=17.3.0 in /usr/local/lib/python3.10/dist-packages (from aiohttp<4.0.0,>=3.8.3->langchain) (23.1.0)\n",
            "Requirement already satisfied: charset-normalizer<4.0,>=2.0 in /usr/local/lib/python3.10/dist-packages (from aiohttp<4.0.0,>=3.8.3->langchain) (2.0.12)\n",
            "Requirement already satisfied: multidict<7.0,>=4.5 in /usr/local/lib/python3.10/dist-packages (from aiohttp<4.0.0,>=3.8.3->langchain) (6.0.4)\n",
            "Requirement already satisfied: yarl<2.0,>=1.0 in /usr/local/lib/python3.10/dist-packages (from aiohttp<4.0.0,>=3.8.3->langchain) (1.9.2)\n",
            "Requirement already satisfied: frozenlist>=1.1.1 in /usr/local/lib/python3.10/dist-packages (from aiohttp<4.0.0,>=3.8.3->langchain) (1.4.0)\n",
            "Requirement already satisfied: aiosignal>=1.1.2 in /usr/local/lib/python3.10/dist-packages (from aiohttp<4.0.0,>=3.8.3->langchain) (1.3.1)\n",
            "Requirement already satisfied: marshmallow<4.0.0,>=3.18.0 in /usr/local/lib/python3.10/dist-packages (from dataclasses-json<0.6.0,>=0.5.7->langchain) (3.20.1)\n",
            "Requirement already satisfied: typing-inspect<1,>=0.4.0 in /usr/local/lib/python3.10/dist-packages (from dataclasses-json<0.6.0,>=0.5.7->langchain) (0.9.0)\n",
            "Requirement already satisfied: typing-extensions>=4.2.0 in /usr/local/lib/python3.10/dist-packages (from pydantic<2,>=1->langchain) (4.7.1)\n",
            "Requirement already satisfied: urllib3<1.27,>=1.21.1 in /usr/local/lib/python3.10/dist-packages (from requests<3,>=2->langchain) (1.26.16)\n",
            "Requirement already satisfied: certifi>=2017.4.17 in /usr/local/lib/python3.10/dist-packages (from requests<3,>=2->langchain) (2023.7.22)\n",
            "Requirement already satisfied: idna<4,>=2.5 in /usr/local/lib/python3.10/dist-packages (from requests<3,>=2->langchain) (3.4)\n",
            "Requirement already satisfied: greenlet!=0.4.17 in /usr/local/lib/python3.10/dist-packages (from SQLAlchemy<3,>=1.4->langchain) (2.0.2)\n",
            "Requirement already satisfied: packaging>=17.0 in /usr/local/lib/python3.10/dist-packages (from marshmallow<4.0.0,>=3.18.0->dataclasses-json<0.6.0,>=0.5.7->langchain) (23.1)\n",
            "Requirement already satisfied: mypy-extensions>=0.3.0 in /usr/local/lib/python3.10/dist-packages (from typing-inspect<1,>=0.4.0->dataclasses-json<0.6.0,>=0.5.7->langchain) (1.0.0)\n",
            "Requirement already satisfied: openai in /usr/local/lib/python3.10/dist-packages (0.27.8)\n",
            "Requirement already satisfied: requests>=2.20 in /usr/local/lib/python3.10/dist-packages (from openai) (2.27.1)\n",
            "Requirement already satisfied: tqdm in /usr/local/lib/python3.10/dist-packages (from openai) (4.65.0)\n",
            "Requirement already satisfied: aiohttp in /usr/local/lib/python3.10/dist-packages (from openai) (3.8.5)\n",
            "Requirement already satisfied: urllib3<1.27,>=1.21.1 in /usr/local/lib/python3.10/dist-packages (from requests>=2.20->openai) (1.26.16)\n",
            "Requirement already satisfied: certifi>=2017.4.17 in /usr/local/lib/python3.10/dist-packages (from requests>=2.20->openai) (2023.7.22)\n",
            "Requirement already satisfied: charset-normalizer~=2.0.0 in /usr/local/lib/python3.10/dist-packages (from requests>=2.20->openai) (2.0.12)\n",
            "Requirement already satisfied: idna<4,>=2.5 in /usr/local/lib/python3.10/dist-packages (from requests>=2.20->openai) (3.4)\n",
            "Requirement already satisfied: attrs>=17.3.0 in /usr/local/lib/python3.10/dist-packages (from aiohttp->openai) (23.1.0)\n",
            "Requirement already satisfied: multidict<7.0,>=4.5 in /usr/local/lib/python3.10/dist-packages (from aiohttp->openai) (6.0.4)\n",
            "Requirement already satisfied: async-timeout<5.0,>=4.0.0a3 in /usr/local/lib/python3.10/dist-packages (from aiohttp->openai) (4.0.2)\n",
            "Requirement already satisfied: yarl<2.0,>=1.0 in /usr/local/lib/python3.10/dist-packages (from aiohttp->openai) (1.9.2)\n",
            "Requirement already satisfied: frozenlist>=1.1.1 in /usr/local/lib/python3.10/dist-packages (from aiohttp->openai) (1.4.0)\n",
            "Requirement already satisfied: aiosignal>=1.1.2 in /usr/local/lib/python3.10/dist-packages (from aiohttp->openai) (1.3.1)\n",
            "Requirement already satisfied: azure-search-documents in /usr/local/lib/python3.10/dist-packages (11.3.0)\n",
            "Requirement already satisfied: azure-core<2.0.0,>=1.19.0 in /usr/local/lib/python3.10/dist-packages (from azure-search-documents) (1.28.0)\n",
            "Requirement already satisfied: msrest>=0.6.21 in /usr/local/lib/python3.10/dist-packages (from azure-search-documents) (0.7.1)\n",
            "Requirement already satisfied: azure-common~=1.1 in /usr/local/lib/python3.10/dist-packages (from azure-search-documents) (1.1.28)\n",
            "Requirement already satisfied: typing-extensions>=3.7.4.3 in /usr/local/lib/python3.10/dist-packages (from azure-search-documents) (4.7.1)\n",
            "Requirement already satisfied: requests>=2.18.4 in /usr/local/lib/python3.10/dist-packages (from azure-core<2.0.0,>=1.19.0->azure-search-documents) (2.27.1)\n",
            "Requirement already satisfied: six>=1.11.0 in /usr/local/lib/python3.10/dist-packages (from azure-core<2.0.0,>=1.19.0->azure-search-documents) (1.16.0)\n",
            "Requirement already satisfied: certifi>=2017.4.17 in /usr/local/lib/python3.10/dist-packages (from msrest>=0.6.21->azure-search-documents) (2023.7.22)\n",
            "Requirement already satisfied: isodate>=0.6.0 in /usr/local/lib/python3.10/dist-packages (from msrest>=0.6.21->azure-search-documents) (0.6.1)\n",
            "Requirement already satisfied: requests-oauthlib>=0.5.0 in /usr/local/lib/python3.10/dist-packages (from msrest>=0.6.21->azure-search-documents) (1.3.1)\n",
            "Requirement already satisfied: urllib3<1.27,>=1.21.1 in /usr/local/lib/python3.10/dist-packages (from requests>=2.18.4->azure-core<2.0.0,>=1.19.0->azure-search-documents) (1.26.16)\n",
            "Requirement already satisfied: charset-normalizer~=2.0.0 in /usr/local/lib/python3.10/dist-packages (from requests>=2.18.4->azure-core<2.0.0,>=1.19.0->azure-search-documents) (2.0.12)\n",
            "Requirement already satisfied: idna<4,>=2.5 in /usr/local/lib/python3.10/dist-packages (from requests>=2.18.4->azure-core<2.0.0,>=1.19.0->azure-search-documents) (3.4)\n",
            "Requirement already satisfied: oauthlib>=3.0.0 in /usr/local/lib/python3.10/dist-packages (from requests-oauthlib>=0.5.0->msrest>=0.6.21->azure-search-documents) (3.2.2)\n"
          ]
        }
      ],
      "source": [
        "!pip install azure-identity\n",
        "!pip install langchain\n",
        "!pip install openai\n",
        "!pip install azure-search-documents"
      ]
    },
    {
      "cell_type": "code",
      "source": [
        "import os\n",
        "import openai\n",
        "from azure.identity import DefaultAzureCredential\n",
        "from azure.search.documents import SearchClient\n",
        "from azure.search.documents.models import QueryType"
      ],
      "metadata": {
        "id": "5qQghipurf7F"
      },
      "execution_count": 63,
      "outputs": []
    },
    {
      "cell_type": "code",
      "source": [
        "\n",
        "!pip3 install python-dotenv\n",
        "from dotenv import load_dotenv, find_dotenv\n",
        "_ = load_dotenv(find_dotenv()) # read local .env file\n",
        "\n",
        "# If your enviornment variable giving you previous values,\n",
        "# then delete existing one And know set new one\n",
        "# del os.environ['AZURE_SEARCH_KEY']\n",
        "\n",
        "# Replace these with your own values, either in environment variables or directly here\n",
        "AZURE_STORAGE_ACCOUNT = os.environ.get(\"AZURE_STORAGE_ACCOUNT\")  # This is only in use if you want to store your data in azure blob storage\n",
        "AZURE_STORAGE_CONTAINER = os.environ.get(\"AZURE_STORAGE_CONTAINER\")\n",
        "\n",
        "AZURE_SEARCH_SERVICE = os.environ.get(\"AZURE_SEARCH_SERVICE\")\n",
        "AZURE_SEARCH_INDEX = os.environ.get(\"AZURE_SEARCH_INDEX\")\n",
        "AZURE_SEARCH_KEY = os.environ.get(\"AZURE_SEARCH_KEY\")\n",
        "\n",
        "AZURE_OPENAI_SERVICE = os.environ.get(\"AZURE_OPENAI_SERVICE\")\n",
        "AZURE_OPENAI_GPT_DEPLOYMENT = os.environ.get(\"AZURE_OPENAI_GPT_DEPLOYMENT\")\n",
        "AZURE_OPENAI_CHATGPT_DEPLOYMENT = os.environ.get(\"AZURE_OPENAI_CHATGPT_DEPLOYMENT\")\n",
        "AZURE_OPENAI_CHATGPT_MODEL = os.environ.get(\"AZURE_OPENAI_CHATGPT_MODEL\")\n",
        "\n",
        "OPENAI_API_KEY= os.environ.get(\"OPENAI_API_KEY\")\n",
        "# AZURE_TENANT_ID = os.environ.get(\"AZURE_TENANT_ID\")\n",
        "# AZURE_CLIENT_SECRET = os.environ.get[\"AZURE_CLIENT_SECRET\"]\n",
        "# AZURE_CLIENT_ID = os.environ.get[\"AZURE_CLIENT_ID\"]\n",
        "\n",
        "KB_FIELDS_CONTENT = os.environ.get(\"KB_FIELDS_CONTENT\")\n",
        "KB_FIELDS_CATEGORY = os.environ.get(\"KB_FIELDS_CATEGORY\")\n",
        "KB_FIELDS_SOURCEPAGE = os.environ.get(\"KB_FIELDS_SOURCEPAGE\")\n"
      ],
      "metadata": {
        "id": "BJdpzfZxsIIS",
        "outputId": "76deee0e-fb08-4969-ceb7-8b5fb7faa547",
        "colab": {
          "base_uri": "https://localhost:8080/"
        }
      },
      "execution_count": 69,
      "outputs": [
        {
          "output_type": "stream",
          "name": "stdout",
          "text": [
            "Requirement already satisfied: python-dotenv in /usr/local/lib/python3.10/dist-packages (1.0.0)\n"
          ]
        }
      ]
    },
    {
      "cell_type": "code",
      "source": [
        "# Use the current user identity to authenticate with Azure OpenAI, Cognitive Search and Blob Storage (no secrets needed,\n",
        "# just use 'az login' locally, and managed identity when deployed on Azure). If you need to use keys, use separate AzureKeyCredential instances with the\n",
        "# keys for each service\n",
        "azure_credential = DefaultAzureCredential()\n",
        "\n",
        "\n",
        "# Used by the OpenAI SDK\n",
        "openai.api_type = \"azure\"\n",
        "openai.api_base = f\"https://{AZURE_OPENAI_SERVICE}.openai.azure.com\"\n",
        "openai.api_version = \"2023-05-15\"\n",
        "\n",
        "\n",
        "# Comment these two lines out if using keys, set your API key in the OPENAI_API_KEY environment variable instead\n",
        "# openai.api_type = \"azure_ad\"\n",
        "# openai.api_key = azure_credential.get_token(\"https://cognitiveservices.azure.com/.default\").token\n",
        "openai.api_key=OPENAI_API_KEY\n",
        "\n",
        "# Set up clients for Cognitive Search and Storage\n",
        "search_client = SearchClient(\n",
        "    endpoint=f\"https://{AZURE_SEARCH_SERVICE}.search.windows.net\",\n",
        "    index_name=AZURE_SEARCH_INDEX,\n",
        "    credential=AZURE_SEARCH_KEY)\n"
      ],
      "metadata": {
        "id": "CmwQNLeUs0St"
      },
      "execution_count": 71,
      "outputs": []
    },
    {
      "cell_type": "code",
      "source": [
        "# Chat roles\n",
        "SYSTEM = \"system\"\n",
        "USER = \"user\"\n",
        "ASSISTANT = \"assistant\"\n",
        "\n",
        "# previous chat\n",
        "system_message_chat_conversation = \"\"\"Amazon Elastic Compute Cloud (Amazon EC2) is a web service provided by Amazon Web Services (AWS) that allows users to rent virtual servers,\n",
        "known as instances, on-demand. These instances can be used to run applications, host websites, process data, and perform various computing tasks in the cloud. EC2 provides a\n",
        "scalable and flexible infrastructure for computing resources without the need for upfront investments in hardware.\n",
        "Key features of Amazon EC2 include:\n",
        "\n",
        "1. **Elasticity:** EC2 instances can be easily scaled up or down based on demand. This enables users to add or remove instances as needed, ensuring optimal performance and cost efficiency.\n",
        "\n",
        "2. **Variety of Instance Types:** EC2 offers a wide range of instance types optimized for different use cases, such as compute-intensive, memory-intensive, GPU-accelerated, and more. Users can choose instances with the right balance of CPU, memory, storage, and networking capabilities for their applications.\n",
        "\n",
        "3. **Customization:** Users can configure the operating system, networking, security settings, and other parameters of their EC2 instances. This allows for a high degree of customization to meet specific application requirements.\n",
        "\n",
        "4. **Pay-as-You-Go Pricing:** EC2 operates on a pay-as-you-go model, where users are charged based on the instance types they use and the duration of usage. This makes it cost-effective, as users only pay for the resources they actually consume.\n",
        "\n",
        "5. **Security:** EC2 instances can be deployed within Amazon Virtual Private Cloud (VPC) environments, providing network isolation and control over security settings. Users can also employ security groups and access control lists to regulate inbound and outbound traffic.\n",
        "\n",
        "6. **Data Storage:** EC2 instances can be paired with various Amazon storage services, such as Amazon Elastic Block Store (EBS) for durable block storage and Amazon S3 for object storage. This enables users to attach and manage storage volumes for their instances.\n",
        "\n",
        "7. **Load Balancing and Auto Scaling:** EC2 instances can be integrated with other AWS services like Elastic Load Balancing (ELB) and Auto Scaling, allowing for automatic distribution of traffic across instances and dynamic scaling based on traffic fluctuations.\n",
        "\n",
        "8. **Global Availability:** EC2 instances can be deployed in multiple AWS regions and Availability Zones worldwide, providing geographic redundancy and fault tolerance.\n",
        "\n",
        "Amazon EC2 has become a foundational service in cloud computing, enabling businesses and developers to deploy applications and services quickly and easily without the need to manage physical hardware. It has been widely adopted across various industries due to its scalability, flexibility, and cost-effectiveness..\n",
        "\"\"\"\n",
        "chat_conversations = [{\"role\" : SYSTEM, \"content\" : system_message_chat_conversation}]\n",
        "\n",
        "summary_prompt_template = \"\"\"Below is a summary of the conversation so far, and a new question asked by the user that needs to be answered by searching in a knowledge base. Generate a search query based on the conversation and the new question. Source names are not good search terms to include in the search query.\n",
        "\n",
        "Summary:\n",
        "{summary}\n",
        "\n",
        "Question:\n",
        "{question}\n",
        "\n",
        "Search query:\n",
        "\"\"\""
      ],
      "metadata": {
        "id": "9Ax3wEhos5lv"
      },
      "execution_count": 79,
      "outputs": []
    },
    {
      "cell_type": "code",
      "source": [
        "# Execute this cell multiple times updating user_input to accumulate chat history\n",
        "user_input = \"What is amazon ec2 ?\"\n",
        "\n",
        "# Exclude category, to simulate scenarios where there's a set of docs you can't see\n",
        "exclude_category = None\n",
        "\n",
        "# To check if there is any chat history available\n",
        "if len(chat_conversations) > 1:\n",
        "    # If there is previous chat then provide the summary\n",
        "    query_completion = openai.Completion.create(\n",
        "        engine=AZURE_OPENAI_GPT_DEPLOYMENT,\n",
        "        prompt=summary_prompt_template.format(summary=str(chat_conversations), question=user_input),\n",
        "        temperature=0.7,\n",
        "        max_tokens=32,\n",
        "        stop=[\"\\n\"])\n",
        "    search = query_completion.choices[0].text\n",
        "else:\n",
        "  # set the user input to search if there is no chat history\n",
        "    search = user_input\n"
      ],
      "metadata": {
        "id": "mxdQ-xUps9TX"
      },
      "execution_count": 80,
      "outputs": []
    },
    {
      "cell_type": "code",
      "source": [
        "# Alternatively simply use search_client.search(q, top=3) if not using semantic search\n",
        "print(\"Searching:\", search)\n",
        "print(\"-------------------\")\n",
        "filter = \"category ne '{}'\".format(exclude_category.replace(\"'\", \"''\")) if exclude_category else None\n",
        "r = search_client.search(search,\n",
        "                         filter=filter,\n",
        "                        #  query_type=QueryType.SEMANTIC,\n",
        "                         query_language=\"en-us\",\n",
        "                         query_speller=\"lexicon\",\n",
        "                         semantic_configuration_name=\"default\",\n",
        "                         top=3)\n",
        "\n"
      ],
      "metadata": {
        "id": "3gTqsItD6jrv",
        "outputId": "e0185ab4-9f1a-4955-f69a-b15234d87b88",
        "colab": {
          "base_uri": "https://localhost:8080/"
        }
      },
      "execution_count": 81,
      "outputs": [
        {
          "output_type": "stream",
          "name": "stdout",
          "text": [
            "Searching: What is amazon ec2 ?\n",
            "-------------------\n"
          ]
        }
      ]
    },
    {
      "cell_type": "code",
      "source": [
        "# Assuming KB_FIELDS_SOURCEPAGE and KB_FIELDS_CONTENT are the actual field names you're using\n",
        "results = []\n",
        "\n",
        "for doc in r:\n",
        "    source_page = doc.get(KB_FIELDS_SOURCEPAGE, \"\")\n",
        "    content = doc.get(KB_FIELDS_CONTENT, \"\").replace(\"\\n\", \"\").replace(\"\\r\", \"\")\n",
        "    result = f\"{source_page}: {content}\"\n",
        "    results.append(result)\n",
        "\n",
        "content = \"\\n\".join(results)\n",
        "user_content = user_input + \" \\nSOURCES:\\n\" + content\n",
        "print(user_content)"
      ],
      "metadata": {
        "id": "q1xwqXgRZ6S9",
        "outputId": "d9496f36-4194-40a0-cb38-d0b0bc3ee3bc",
        "colab": {
          "base_uri": "https://localhost:8080/"
        }
      },
      "execution_count": 83,
      "outputs": [
        {
          "output_type": "stream",
          "name": "stdout",
          "text": [
            "What is amazon ec2 ? \n",
            "SOURCES:\n",
            "\n"
          ]
        }
      ]
    },
    {
      "cell_type": "code",
      "source": [
        "user_content = user_input + \" \\nSOURCES:\\n\" + content\n",
        "\n",
        "chat_conversations.append({\"role\": USER, \"content\": user_content })\n",
        "\n",
        "chat_completion = openai.ChatCompletion.create(\n",
        "    deployment_id=AZURE_OPENAI_CHATGPT_DEPLOYMENT,\n",
        "    model=AZURE_OPENAI_CHATGPT_MODEL,\n",
        "    messages=chat_conversations,\n",
        "    temperature=0.7,\n",
        "    max_tokens=1024,\n",
        "    n=1)\n",
        "chat_content = chat_completion.choices[0].message.content\n",
        "'''\n",
        "reset user content to avoid sources in conversation history\n",
        "add source as a single shot in query conversation\n",
        "'''\n",
        "chat_conversations[-1][\"content\"] = user_input\n",
        "chat_conversations.append({\"role\":ASSISTANT, \"content\": chat_content})\n",
        "\n",
        "print(\"\\n-------------------\\n\")\n",
        "[print(conversation) for conversation in chat_conversations]"
      ],
      "metadata": {
        "id": "fbLse1uOXr--",
        "outputId": "e09e212d-21cd-4f57-867c-d81d27cbc774",
        "colab": {
          "base_uri": "https://localhost:8080/"
        }
      },
      "execution_count": 84,
      "outputs": [
        {
          "output_type": "stream",
          "name": "stdout",
          "text": [
            "\n",
            "-------------------\n",
            "\n",
            "{'role': 'system', 'content': 'Amazon Elastic Compute Cloud (Amazon EC2) is a web service provided by Amazon Web Services (AWS) that allows users to rent virtual servers, \\nknown as instances, on-demand. These instances can be used to run applications, host websites, process data, and perform various computing tasks in the cloud. EC2 provides a \\nscalable and flexible infrastructure for computing resources without the need for upfront investments in hardware.\\nKey features of Amazon EC2 include:\\n\\n1. **Elasticity:** EC2 instances can be easily scaled up or down based on demand. This enables users to add or remove instances as needed, ensuring optimal performance and cost efficiency.\\n\\n2. **Variety of Instance Types:** EC2 offers a wide range of instance types optimized for different use cases, such as compute-intensive, memory-intensive, GPU-accelerated, and more. Users can choose instances with the right balance of CPU, memory, storage, and networking capabilities for their applications.\\n\\n3. **Customization:** Users can configure the operating system, networking, security settings, and other parameters of their EC2 instances. This allows for a high degree of customization to meet specific application requirements.\\n\\n4. **Pay-as-You-Go Pricing:** EC2 operates on a pay-as-you-go model, where users are charged based on the instance types they use and the duration of usage. This makes it cost-effective, as users only pay for the resources they actually consume.\\n\\n5. **Security:** EC2 instances can be deployed within Amazon Virtual Private Cloud (VPC) environments, providing network isolation and control over security settings. Users can also employ security groups and access control lists to regulate inbound and outbound traffic.\\n\\n6. **Data Storage:** EC2 instances can be paired with various Amazon storage services, such as Amazon Elastic Block Store (EBS) for durable block storage and Amazon S3 for object storage. This enables users to attach and manage storage volumes for their instances.\\n\\n7. **Load Balancing and Auto Scaling:** EC2 instances can be integrated with other AWS services like Elastic Load Balancing (ELB) and Auto Scaling, allowing for automatic distribution of traffic across instances and dynamic scaling based on traffic fluctuations.\\n\\n8. **Global Availability:** EC2 instances can be deployed in multiple AWS regions and Availability Zones worldwide, providing geographic redundancy and fault tolerance.\\n\\nAmazon EC2 has become a foundational service in cloud computing, enabling businesses and developers to deploy applications and services quickly and easily without the need to manage physical hardware. It has been widely adopted across various industries due to its scalability, flexibility, and cost-effectiveness..\\n'}\n",
            "{'role': 'user', 'content': 'What is amazon ec2 ?'}\n",
            "{'role': 'assistant', 'content': 'Amazon EC2 is a web service provided by Amazon Web Services (AWS) that allows users to rent virtual servers, known as instances, on-demand. These instances can be used to run applications, host websites, process data, and perform various computing tasks in the cloud. EC2 provides a scalable and flexible infrastructure for computing resources without the need for upfront investments in hardware.'}\n"
          ]
        },
        {
          "output_type": "execute_result",
          "data": {
            "text/plain": [
              "[None, None, None]"
            ]
          },
          "metadata": {},
          "execution_count": 84
        }
      ]
    }
  ]
}
